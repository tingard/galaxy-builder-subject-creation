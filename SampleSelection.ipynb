{
 "cells": [
  {
   "cell_type": "markdown",
   "metadata": {},
   "source": [
    "# Sample selection\n",
    "\n",
    "Wish me luck"
   ]
  },
  {
   "cell_type": "code",
   "execution_count": 8,
   "metadata": {
    "collapsed": false
   },
   "outputs": [],
   "source": [
    "import numpy as np\n",
    "from astropy.io import fits\n",
    "from astropy.coordinates import SkyCoord\n",
    "import main # function which gets cutouts + data"
   ]
  },
  {
   "cell_type": "code",
   "execution_count": 2,
   "metadata": {
    "collapsed": false
   },
   "outputs": [],
   "source": [
    "f = fits.open('NSA_GalaxyZoo.fits')\n",
    "d = f[1].data"
   ]
  },
  {
   "cell_type": "code",
   "execution_count": 3,
   "metadata": {
    "collapsed": false
   },
   "outputs": [
    {
     "name": "stdout",
     "output_type": "stream",
     "text": [
      "Finding spiral galaxies\n",
      "Finding smooth galaxies\n",
      "Finding barred galaxies\n"
     ]
    }
   ],
   "source": [
    "print('Finding spiral galaxies')\n",
    "spiralMask = [d[i]['t04_spiral_a08_spiral_flag'] == 1 for i in np.arange(d.shape[0])]\n",
    "spiralGalaxies = d[spiralMask]\n",
    "print('Finding smooth galaxies')\n",
    "smoothMask = [d[i]['t01_smooth_or_features_a01_smooth_flag'] == 1 for i in np.arange(d.shape[0])]\n",
    "smoothGalaxies = d[smoothMask]\n",
    "print('Finding barred galaxies')\n",
    "barMask = [d[i]['t03_bar_a06_bar_flag'] == 1 for i in np.arange(d.shape[0])]\n",
    "barredGalaxies = d[barMask]"
   ]
  },
  {
   "cell_type": "code",
   "execution_count": 4,
   "metadata": {
    "collapsed": false
   },
   "outputs": [],
   "source": [
    "#print(d.columns)\n",
    "flag = 't05_bulge_prominence_a10_no_bulge_flag'\n",
    "mask = [d[i][flag] == 1 for i in np.arange(d.shape[0])]\n",
    "subsample = d[mask]"
   ]
  },
  {
   "cell_type": "code",
   "execution_count": 5,
   "metadata": {
    "collapsed": false
   },
   "outputs": [],
   "source": [
    "sortedSubsample = sorted(subsample, key=lambda v: v['SERSIC_TH50'])\n",
    "f = lambda i: [i['RA_1'], i['DEC_1'], i['PETROTHETA']]\n",
    "# main([f(sortedSubsample[0])])"
   ]
  },
  {
   "cell_type": "markdown",
   "metadata": {},
   "source": [
    "We now have a list of all galaxies flagged as spirals, now what?"
   ]
  },
  {
   "cell_type": "code",
   "execution_count": 6,
   "metadata": {
    "collapsed": false
   },
   "outputs": [],
   "source": [
    "spiralBySize = sorted(spiralGalaxies, key=lambda v: v['SERSIC_TH50'])\n",
    "smoothBySize = sorted(smoothGalaxies, key=lambda v: v['SERSIC_TH50'])\n",
    "barredBySize = sorted(barredGalaxies, key=lambda v: v['SERSIC_TH50'])"
   ]
  },
  {
   "cell_type": "code",
   "execution_count": 7,
   "metadata": {
    "collapsed": false
   },
   "outputs": [
    {
     "name": "stdout",
     "output_type": "stream",
     "text": [
      "[[41.641447536432004, -0.24713745138021195, 60.431831], [160.91220560347105, 14.871805138233954, 75.733269], [259.27702903505087, 40.844937775866171, 63.939758], [196.30898397322505, 31.999692657501768, 31.009161], [205.16589100978419, 54.332963367499858, 59.585342], [213.10179825210173, 18.411757808899239, 27.811661], [216.16885767118126, 26.625148863396365, 25.35359], [141.84790761271455, 30.44079266056109, 29.399462], [230.75661842627977, -1.3471502025661983, 53.713493], [189.15865415391502, 24.42881785060105, 12.993234], [160.65883, 23.95189, 22.3782], [216.53496423791432, 5.237946739507734, 27.81166], [178.44322153341767, 10.40313979646676, 18.855566], [168.16590912088591, 9.0558683286936947, 40.021893]]\n"
     ]
    }
   ],
   "source": [
    "f = lambda i: [i['RA_1'], i['DEC_1'], i['PETROTHETA']]\n",
    "# add some pretty spirals (t)\n",
    "chosenSpirals = [ \n",
    "    spiralBySize[-200],\n",
    "    spiralBySize[-202],\n",
    "    spiralBySize[-151],\n",
    "    spiralBySize[-301],\n",
    "    spiralBySize[-240],\n",
    "]\n",
    "\n",
    "chosenSmooths = [\n",
    "    smoothBySize[-106],\n",
    "    smoothBySize[-113],\n",
    "]\n",
    "\n",
    "chosenBarred = [\n",
    "    barredBySize[-112],\n",
    "    barredBySize[-142],\n",
    "    barredBySize[-1202],\n",
    "]\n",
    "\n",
    "badMask = [barredBySize[-140]]\n",
    "\n",
    "lucyGals = [{i: j for i,j in zip(('RA_1', 'DEC_1', 'PETROTHETA'), k)} for k in [\n",
    "    [160.65883, 23.95189, 22.3782],\n",
    "    # [119.06931414139731, 11.662177891345076, 25.510479],\n",
    "    # [236.14108, 10.29315, 27.98376],\n",
    "    [216.53496423791432, 5.237946739507734, 27.81166],\n",
    "    # [248.7370584891894, 25.69259397115592, 26.418024],\n",
    "    # [239.5076772567969, 14.963535027843466, 26.63623],\n",
    "    [178.44322153341767, 10.40313979646676, 18.855566],\n",
    "]]\n",
    "\n",
    "gList = [f(i) for i in lucyGals] # [g1, g2, g3, g4]]\n",
    "\n",
    "finalGals = [\n",
    "    f(i)\n",
    "    for j in [chosenSpirals, chosenSmooths, chosenBarred, lucyGals, badMask]\n",
    "    for i in j\n",
    "]\n",
    "\n",
    "print(finalGals)\n"
   ]
  },
  {
   "cell_type": "code",
   "execution_count": null,
   "metadata": {
    "collapsed": true
   },
   "outputs": [],
   "source": [
    "main(finalGals)\n",
    "#main([[i[2], i[3], i['PETROTHETA']] for i in grandDesigns[1010:1021]])"
   ]
  },
  {
   "cell_type": "code",
   "execution_count": null,
   "metadata": {
    "collapsed": false
   },
   "outputs": [],
   "source": [
    "final"
   ]
  }
 ],
 "metadata": {
  "anaconda-cloud": {},
  "kernelspec": {
   "display_name": "Python [default]",
   "language": "python",
   "name": "python3"
  },
  "language_info": {
   "codemirror_mode": {
    "name": "ipython",
    "version": 3
   },
   "file_extension": ".py",
   "mimetype": "text/x-python",
   "name": "python",
   "nbconvert_exporter": "python",
   "pygments_lexer": "ipython3",
   "version": "3.5.2"
  }
 },
 "nbformat": 4,
 "nbformat_minor": 1
}
